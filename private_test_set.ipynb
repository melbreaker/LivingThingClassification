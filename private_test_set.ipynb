{
 "cells": [
  {
   "attachments": {},
   "cell_type": "markdown",
   "metadata": {},
   "source": [
    "# Private Test Set"
   ]
  },
  {
   "attachments": {},
   "cell_type": "markdown",
   "metadata": {},
   "source": [
    "## Setup Environment"
   ]
  },
  {
   "cell_type": "code",
   "execution_count": null,
   "metadata": {},
   "outputs": [],
   "source": []
  },
  {
   "cell_type": "code",
   "execution_count": 203,
   "metadata": {},
   "outputs": [
    {
     "name": "stdout",
     "output_type": "stream",
     "text": [
      "Tensor Flow Version: 2.12.0\n",
      "Keras Version: 2.12.0\n",
      "GPU is available\n"
     ]
    }
   ],
   "source": [
    "import json\n",
    "from pathlib import Path\n",
    "\n",
    "import numpy as np\n",
    "import pandas as pd\n",
    "import tensorflow as tf\n",
    "import tensorflow_hub as hub\n",
    "\n",
    "from sklearn.tree import DecisionTreeClassifier\n",
    "from sklearn.ensemble import RandomForestClassifier  \n",
    "import xgboost\n",
    "import lightgbm\n",
    "\n",
    "from sklearn.metrics import accuracy_score, confusion_matrix, classification_report\n",
    "\n",
    "import seaborn as sns\n",
    "import matplotlib.pyplot as plt\n",
    "\n",
    "from functools import partial\n",
    "\n",
    "import warnings\n",
    "warnings.filterwarnings('ignore')\n",
    "\n",
    "print(f\"Tensor Flow Version: {tf.__version__}\")\n",
    "print(f\"Keras Version: {tf.keras.__version__}\")\n",
    "gpu = len(tf.config.list_physical_devices('GPU'))>0\n",
    "print(\"GPU is\", \"available\" if gpu else \"NOT AVAILABLE\")"
   ]
  },
  {
   "cell_type": "code",
   "execution_count": 205,
   "metadata": {},
   "outputs": [],
   "source": [
    "batch_size = 64\n",
    "img_size = 112\n",
    "fine_grain = False\n",
    "num_classes = 50 if fine_grain else 8\n",
    "\n",
    "root = Path('public')"
   ]
  },
  {
   "cell_type": "code",
   "execution_count": 206,
   "metadata": {},
   "outputs": [],
   "source": [
    "def load_target_names(path='public/info.json'):\n",
    "    with open(path) as f:\n",
    "        info = json.load(f)\n",
    "    return info['fine'], info['coarse']\n",
    "\n",
    "def load_image(file_path, image_size=112):\n",
    "    img = tf.io.read_file(file_path)\n",
    "    img = tf.image.decode_jpeg(img, channels=3)\n",
    "    img = tf.image.convert_image_dtype(img, tf.float32)\n",
    "    img = tf.image.resize(img, [image_size, image_size])\n",
    "    return img\n",
    "\n",
    "def create_dataset_tf(split, fine_grained, batch_size=32, image_size=112):\n",
    "  df = pd.read_csv(root / f\"{split}.csv\")\n",
    "  file_paths = df.filename.map(lambda fn: str(root / split / fn))\n",
    "  labels = df.fine if fine_grained else df.coarse\n",
    "\n",
    "  dataset = tf.data.Dataset.from_tensor_slices((file_paths, labels))\n",
    "  dataset = dataset.map(lambda x, y: (load_image(x, image_size=image_size), y))\n",
    "  dataset = dataset.batch(batch_size)\n",
    "  dataset = dataset.prefetch(buffer_size=tf.data.AUTOTUNE)\n",
    "  return dataset\n",
    "\n",
    "\n",
    "def create_dataset_sklearn(split, fine_grained, image_size=48, percent=0.1):\n",
    "  dataset = create_dataset_tf(split=split, fine_grained=fine_grained, batch_size=1000, image_size=image_size)\n",
    "  dataset = dataset.map(lambda x, y: (tf.image.rgb_to_grayscale(x), y))\n",
    "  X = None\n",
    "  Y = None\n",
    "  n_batches = int(len(dataset) * percent)\n",
    "  for x,y in dataset.take(n_batches):\n",
    "    x, y = x.numpy(), y.numpy()\n",
    "    x = x.reshape(x.shape[0], -1)\n",
    "    X = x if X is None else np.vstack([X, x])\n",
    "    Y = y if Y is None else np.hstack([Y, y])\n",
    "\n",
    "  return X, Y"
   ]
  },
  {
   "attachments": {},
   "cell_type": "markdown",
   "metadata": {},
   "source": [
    "## Import Data"
   ]
  },
  {
   "cell_type": "code",
   "execution_count": 208,
   "metadata": {},
   "outputs": [
    {
     "name": "stdout",
     "output_type": "stream",
     "text": [
      "['Aves', 'Reptilia', 'Mammalia', 'Arachnida', 'Magnoliopsida', 'Insecta', 'Liliopsida', 'Pinopsida']\n"
     ]
    }
   ],
   "source": [
    "fine_names, coarse_names = load_target_names()\n",
    "print(coarse_names)"
   ]
  },
  {
   "cell_type": "code",
   "execution_count": 209,
   "metadata": {},
   "outputs": [
    {
     "name": "stdout",
     "output_type": "stream",
     "text": [
      "['Scolopacidae', 'Laridae', 'Accipitridae', 'Anatidae', 'Corvidae', 'Icteridae', 'Picidae', 'Colubridae', 'Sciuridae', 'Rosaceae', 'Cyperaceae', 'Brassicaceae', 'Sphingidae', 'Orchidaceae', 'Apidae', 'Papilionidae', 'Orobanchaceae', 'Liliaceae', 'Apocynaceae', 'Poaceae', 'Araneidae', 'Pinaceae', 'Asparagaceae', 'Acrididae', 'Hesperiidae', 'Rubiaceae', 'Onagraceae', 'Libellulidae', 'Fagaceae', 'Cactaceae', 'Lycaenidae', 'Coenagrionidae', 'Boraginaceae', 'Ranunculaceae', 'Polygonaceae', 'Pieridae', 'Caryophyllaceae', 'Lamiaceae', 'Noctuidae', 'Apiaceae', 'Malvaceae', 'Geometridae', 'Plantaginaceae', 'Euphorbiaceae', 'Crambidae', 'Parulidae', 'Erebidae', 'Ericaceae', 'Passerellidae', 'Tyrannidae']\n"
     ]
    }
   ],
   "source": [
    "print(fine_names)"
   ]
  },
  {
   "cell_type": "code",
   "execution_count": 243,
   "metadata": {},
   "outputs": [],
   "source": [
    "coarse_ds = create_dataset_tf('privtest_coarse', fine_grained=False, batch_size=64, image_size = 512)\n",
    "fine_ds = create_dataset_tf('privtest_fine', fine_grained=True, batch_size=64, image_size = 512)"
   ]
  },
  {
   "attachments": {},
   "cell_type": "markdown",
   "metadata": {},
   "source": [
    "# Load Saved Model"
   ]
  },
  {
   "attachments": {},
   "cell_type": "markdown",
   "metadata": {},
   "source": [
    "## Model for Course-Grained "
   ]
  },
  {
   "cell_type": "code",
   "execution_count": 211,
   "metadata": {},
   "outputs": [
    {
     "name": "stdout",
     "output_type": "stream",
     "text": [
      "Model: \"sequential\"\n",
      "_________________________________________________________________\n",
      " Layer (type)                Output Shape              Param #   \n",
      "=================================================================\n",
      " EfficientNetV2_xl (KerasLay  (None, 1280)             207615832 \n",
      " er)                                                             \n",
      "                                                                 \n",
      " pred (Dense)                (None, 8)                 10248     \n",
      "                                                                 \n",
      "=================================================================\n",
      "Total params: 207,626,080\n",
      "Trainable params: 10,248\n",
      "Non-trainable params: 207,615,832\n",
      "_________________________________________________________________\n"
     ]
    }
   ],
   "source": [
    "coarse_model = tf.keras.models.load_model('ENV2_ft1k_xl_model')\n",
    "coarse_model.summary()"
   ]
  },
  {
   "cell_type": "code",
   "execution_count": 225,
   "metadata": {},
   "outputs": [
    {
     "name": "stdout",
     "output_type": "stream",
     "text": [
      "24/24 [==============================] - 107s 5s/step\n"
     ]
    },
    {
     "data": {
      "text/plain": [
       "array([[5.25592838e-15, 3.29531477e-24, 2.10967649e-21, ...,\n",
       "        1.22063137e-09, 3.76106687e-02, 4.24089809e-17],\n",
       "       [6.36619313e-10, 1.48136118e-14, 1.31332419e-11, ...,\n",
       "        9.99999404e-01, 2.35753230e-08, 8.79578600e-17],\n",
       "       [1.09261870e-10, 2.46898418e-10, 3.66546585e-11, ...,\n",
       "        9.99991894e-01, 1.46330050e-08, 1.92132171e-10],\n",
       "       ...,\n",
       "       [1.42996170e-13, 1.80206695e-25, 3.12250367e-19, ...,\n",
       "        9.99999762e-01, 3.14347333e-11, 7.06800135e-22],\n",
       "       [3.56657893e-14, 3.20969201e-24, 3.16289698e-24, ...,\n",
       "        2.73581477e-08, 2.68149636e-09, 1.09448803e-14],\n",
       "       [1.21152186e-11, 3.95023179e-17, 3.04162285e-17, ...,\n",
       "        1.04675146e-09, 9.78994947e-08, 1.31227280e-19]], dtype=float32)"
      ]
     },
     "execution_count": 225,
     "metadata": {},
     "output_type": "execute_result"
    }
   ],
   "source": [
    "coarse_predict = coarse_model.predict(coarse_ds)\n",
    "coarse_predict"
   ]
  },
  {
   "cell_type": "code",
   "execution_count": 226,
   "metadata": {},
   "outputs": [
    {
     "data": {
      "text/plain": [
       "array([4, 5, 5, ..., 5, 4, 4])"
      ]
     },
     "execution_count": 226,
     "metadata": {},
     "output_type": "execute_result"
    }
   ],
   "source": [
    "coarse_predict_class = coarse_predict.argmax(axis=1)\n",
    "coarse_predict_class"
   ]
  },
  {
   "cell_type": "code",
   "execution_count": 228,
   "metadata": {},
   "outputs": [
    {
     "data": {
      "text/plain": [
       "1500"
      ]
     },
     "execution_count": 228,
     "metadata": {},
     "output_type": "execute_result"
    }
   ],
   "source": [
    "len(coarse_predict_class)"
   ]
  },
  {
   "cell_type": "code",
   "execution_count": 227,
   "metadata": {},
   "outputs": [],
   "source": [
    "test_csv = pd.read_csv(f\"{root}/privtest_coarse.csv\")\n",
    "test_csv.loc[:, \"coarse\"] = coarse_predict_class\n",
    "\n",
    "pred_file = \"47369833-conv-coarse-private.csv\"\n",
    "test_csv.to_csv(pred_file, index = False)"
   ]
  },
  {
   "attachments": {},
   "cell_type": "markdown",
   "metadata": {},
   "source": [
    "## Model for Fine-Grained"
   ]
  },
  {
   "cell_type": "code",
   "execution_count": 241,
   "metadata": {},
   "outputs": [
    {
     "name": "stdout",
     "output_type": "stream",
     "text": [
      "Model: \"sequential\"\n",
      "_________________________________________________________________\n",
      " Layer (type)                Output Shape              Param #   \n",
      "=================================================================\n",
      " EfficientNetV2_xl (KerasLay  (None, 1280)             207615832 \n",
      " er)                                                             \n",
      "                                                                 \n",
      " pred (Dense)                (None, 50)                64050     \n",
      "                                                                 \n",
      "=================================================================\n",
      "Total params: 207,679,882\n",
      "Trainable params: 64,050\n",
      "Non-trainable params: 207,615,832\n",
      "_________________________________________________________________\n"
     ]
    }
   ],
   "source": [
    "fine_model = tf.keras.models.load_model('ENV2_ft1k_xl_fine_model')\n",
    "fine_model.summary()"
   ]
  },
  {
   "cell_type": "code",
   "execution_count": 244,
   "metadata": {},
   "outputs": [
    {
     "name": "stdout",
     "output_type": "stream",
     "text": [
      "24/24 [==============================] - 157s 6s/step\n"
     ]
    },
    {
     "data": {
      "text/plain": [
       "array([[4.4605771e-05, 1.7733053e-05, 1.1633457e-05, ..., 1.8317978e-03,\n",
       "        4.3995038e-05, 2.1270756e-05],\n",
       "       [1.1173687e-04, 9.7528733e-05, 6.4011190e-05, ..., 9.2235990e-05,\n",
       "        9.2499467e-05, 7.5193500e-05],\n",
       "       [1.8620385e-04, 2.2833665e-05, 7.2284252e-05, ..., 4.5059442e-05,\n",
       "        5.0743845e-05, 2.3424936e-05],\n",
       "       ...,\n",
       "       [1.7364324e-03, 4.4332223e-04, 6.3599124e-05, ..., 4.1045612e-04,\n",
       "        4.6578439e-06, 2.3838494e-04],\n",
       "       [8.0797481e-06, 2.5546358e-06, 5.1801703e-06, ..., 1.4274158e-03,\n",
       "        2.6209886e-05, 1.3485802e-05],\n",
       "       [4.0961304e-06, 2.2330655e-06, 4.0483169e-06, ..., 6.5934852e-05,\n",
       "        2.9634011e-05, 1.4947743e-05]], dtype=float32)"
      ]
     },
     "execution_count": 244,
     "metadata": {},
     "output_type": "execute_result"
    }
   ],
   "source": [
    "fine_predict = fine_model.predict(fine_ds)\n",
    "fine_predict"
   ]
  },
  {
   "cell_type": "code",
   "execution_count": 245,
   "metadata": {},
   "outputs": [
    {
     "data": {
      "text/plain": [
       "array([32, 14, 30, ..., 23, 25, 18])"
      ]
     },
     "execution_count": 245,
     "metadata": {},
     "output_type": "execute_result"
    }
   ],
   "source": [
    "fine_predict_class = fine_predict.argmax(axis=1)\n",
    "fine_predict_class"
   ]
  },
  {
   "cell_type": "code",
   "execution_count": 246,
   "metadata": {},
   "outputs": [
    {
     "data": {
      "text/plain": [
       "1500"
      ]
     },
     "execution_count": 246,
     "metadata": {},
     "output_type": "execute_result"
    }
   ],
   "source": [
    "len(fine_predict_class)"
   ]
  },
  {
   "cell_type": "code",
   "execution_count": 234,
   "metadata": {},
   "outputs": [],
   "source": [
    "test_csv = pd.read_csv(f\"{root}/privtest_fine.csv\")\n",
    "test_csv.loc[:, \"fine\"] = fine_predict_class\n",
    "\n",
    "pred_file = \"47369833-conv-fine-private.csv\"\n",
    "test_csv.to_csv(pred_file, index = False)"
   ]
  },
  {
   "cell_type": "code",
   "execution_count": null,
   "metadata": {},
   "outputs": [],
   "source": []
  }
 ],
 "metadata": {
  "kernelspec": {
   "display_name": "Python 3 (ipykernel)",
   "language": "python",
   "name": "python3"
  },
  "language_info": {
   "codemirror_mode": {
    "name": "ipython",
    "version": 3
   },
   "file_extension": ".py",
   "mimetype": "text/x-python",
   "name": "python",
   "nbconvert_exporter": "python",
   "pygments_lexer": "ipython3",
   "version": "3.10.9"
  },
  "orig_nbformat": 4
 },
 "nbformat": 4,
 "nbformat_minor": 2
}
